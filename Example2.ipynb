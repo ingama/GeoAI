{
 "cells": [
  {
   "cell_type": "markdown",
   "id": "2981284a",
   "metadata": {},
   "source": [
    "File: Example2.ipynb   \n",
    "Author: inga mazaeva   \n",
    "Description: Learn how to return, clear variables from memory   \n",
    "\n",
    "FOR EDUCATION PURPOSE ONLY"
   ]
  },
  {
   "cell_type": "code",
   "execution_count": 1,
   "id": "10ca6e9e",
   "metadata": {},
   "outputs": [
    {
     "name": "stdout",
     "output_type": "stream",
     "text": [
      "METHODS FOR RETURNING THE LOADED LIST OF VARIABLES\n"
     ]
    },
    {
     "data": {
      "text/plain": [
       "['In',\n",
       " 'Out',\n",
       " '_',\n",
       " '__',\n",
       " '___',\n",
       " '__builtin__',\n",
       " '__builtins__',\n",
       " '__doc__',\n",
       " '__loader__',\n",
       " '__name__',\n",
       " '__package__',\n",
       " '__spec__',\n",
       " '_dh',\n",
       " '_i',\n",
       " '_i1',\n",
       " '_ih',\n",
       " '_ii',\n",
       " '_iii',\n",
       " '_oh',\n",
       " 'abc',\n",
       " 'exit',\n",
       " 'get_ipython',\n",
       " 'open',\n",
       " 'quit',\n",
       " 'xyz']"
      ]
     },
     "metadata": {},
     "output_type": "display_data"
    },
    {
     "data": {
      "text/plain": [
       "{'__name__': '__main__',\n",
       " '__doc__': 'Automatically created module for IPython interactive environment',\n",
       " '__package__': None,\n",
       " '__loader__': None,\n",
       " '__spec__': None,\n",
       " '__builtin__': <module 'builtins' (built-in)>,\n",
       " '__builtins__': <module 'builtins' (built-in)>,\n",
       " '_ih': ['',\n",
       "  'print(\\'METHODS FOR RETURNING THE LOADED LIST OF VARIABLES\\')\\n\\nabc = 1001\\nxyz = \"my_text\"\\n\\ndisplay(dir())\\ndisplay(globals())'],\n",
       " '_oh': {},\n",
       " '_dh': [WindowsPath('C:/Users/Tomato/LIAD')],\n",
       " 'In': ['',\n",
       "  'print(\\'METHODS FOR RETURNING THE LOADED LIST OF VARIABLES\\')\\n\\nabc = 1001\\nxyz = \"my_text\"\\n\\ndisplay(dir())\\ndisplay(globals())'],\n",
       " 'Out': {},\n",
       " 'get_ipython': <bound method InteractiveShell.get_ipython of <ipykernel.zmqshell.ZMQInteractiveShell object at 0x000002C883FA1960>>,\n",
       " 'exit': <IPython.core.autocall.ZMQExitAutocall at 0x2c883fa2320>,\n",
       " 'quit': <IPython.core.autocall.ZMQExitAutocall at 0x2c883fa2320>,\n",
       " 'open': <function io.open(file, mode='r', buffering=-1, encoding=None, errors=None, newline=None, closefd=True, opener=None)>,\n",
       " '_': '',\n",
       " '__': '',\n",
       " '___': '',\n",
       " '_i': '',\n",
       " '_ii': '',\n",
       " '_iii': '',\n",
       " '_i1': 'print(\\'METHODS FOR RETURNING THE LOADED LIST OF VARIABLES\\')\\n\\nabc = 1001\\nxyz = \"my_text\"\\n\\ndisplay(dir())\\ndisplay(globals())',\n",
       " 'abc': 1001,\n",
       " 'xyz': 'my_text'}"
      ]
     },
     "metadata": {},
     "output_type": "display_data"
    }
   ],
   "source": [
    "print('METHODS FOR RETURNING THE LOADED LIST OF VARIABLES')\n",
    "\n",
    "abc = 1001\n",
    "xyz = \"my_text\"\n",
    "\n",
    "display(dir())\n",
    "display(globals())"
   ]
  },
  {
   "cell_type": "code",
   "execution_count": 2,
   "id": "37b54ed3",
   "metadata": {
    "scrolled": false
   },
   "outputs": [
    {
     "name": "stdout",
     "output_type": "stream",
     "text": [
      "RETRIEVING THE VALUE OF THE \"PATH\" ENVIRONMENT VARIABLE\n",
      "C:\\Software\\Anaconda\n",
      "C:\\Software\\Anaconda\\Library\\mingw-w64\\bin\n",
      "C:\\Software\\Anaconda\\Library\\usr\\bin\n",
      "C:\\Software\\Anaconda\\Library\\bin\n",
      "C:\\Software\\Anaconda\\Scripts\n",
      "C:\\Program Files\\Microsoft\\jdk-11.0.12.7-hotspot\\bin\n",
      "C:\\Software\\Python\\Python37-32\\Scripts\\\n",
      "C:\\Software\\Python\\Python37-32\\\n",
      "C:\\Program Files (x86)\\Intel\\Intel(R) Management Engine Components\\iCLS\\\n",
      "C:\\Program Files\\Intel\\Intel(R) Management Engine Components\\iCLS\\\n",
      "C:\\WINDOWS\\system32\n",
      "C:\\WINDOWS\n",
      "C:\\WINDOWS\\System32\\Wbem\n",
      "C:\\WINDOWS\\System32\\WindowsPowerShell\\v1.0\\\n",
      "C:\\WINDOWS\\System32\\OpenSSH\\\n",
      "C:\\Program Files (x86)\\Intel\\Intel(R) Management Engine Components\\DAL\n",
      "C:\\Program Files\\Intel\\Intel(R) Management Engine Components\\DAL\n",
      "C:\\Program Files (x86)\\Intel\\Intel(R) Management Engine Components\\IPT\n",
      "C:\\Program Files\\Intel\\Intel(R) Management Engine Components\\IPT\n",
      "C:\\Software\\MATLAB\\R2014a\\runtime\\win64\n",
      "C:\\Software\\MATLAB\\R2014a\\bin\n",
      "C:\\Software\\MATLAB\\R2014a\\polyspace\\bin\n",
      "C:\\Program Files\\Calibre2\\\n",
      "C:\\Program Files (x86)\\dotnet\\\n",
      "C:\\Program Files\\dotnet\\\n",
      "C:\\Program Files\\WireGuard\\\n",
      "D:\\Software2\\HDF_Group\\HDF5\\1.14.2\\bin\\\n",
      "C:\\Users\\Tomato\\AppData\\Local\\Microsoft\\WindowsApps\n",
      "C:\\Users\\Tomato\\AppData\\Local\\Temp\\PlazaCDVW\n",
      "C:\\Users\\Tomato\\.dotnet\\tools\n",
      "C:\\Users\\Tomato\\AppData\\Local\\GitHubDesktop\\bin\n",
      "D:\\Software\\JpegminiPro3\\\n"
     ]
    }
   ],
   "source": [
    "import os\n",
    "\n",
    "print('RETRIEVING THE VALUE OF THE \"PATH\" ENVIRONMENT VARIABLE')\n",
    "path = os.environ[\"PATH\"]\n",
    "print(\"\\n\".join(path.split(';')))"
   ]
  },
  {
   "cell_type": "code",
   "execution_count": 3,
   "id": "c5ebf6d2",
   "metadata": {
    "scrolled": false
   },
   "outputs": [
    {
     "name": "stdout",
     "output_type": "stream",
     "text": [
      "\n",
      "VARIABLES BEFORE CLEAR\n",
      "Variable   Type      Data/Info\n",
      "------------------------------\n",
      "abc        int       1001\n",
      "os         module    <module 'os' from 'C:\\\\So<...>e\\\\Anaconda\\\\lib\\\\os.py'>\n",
      "path       str       C:\\Software\\Anaconda;C:\\S<...>D:\\Software\\JpegminiPro3\\\n",
      "xyz        str       my_text\n",
      "\n",
      "VARIABLES AFTER CLEAR\n",
      "Interactive namespace is empty.\n",
      "\n",
      "VARIABLES BEFORE CLEAR\n",
      "Variable   Type    Data/Info\n",
      "----------------------------\n",
      "abc        int     1001\n",
      "xyz        str     my_text\n",
      "\n",
      "VARIABLES AFTER DELETE ONE VARIABLE\n",
      "Variable   Type    Data/Info\n",
      "----------------------------\n",
      "xyz        str     my_text\n"
     ]
    }
   ],
   "source": [
    "#----CLEAR VARIABLES FROM MEMORY--------------------------------------------------------------------\n",
    "abc = 1001\n",
    "xyz = \"my_text\"\n",
    "print('\\nVARIABLES BEFORE CLEAR')\n",
    "%whos\n",
    "\n",
    "globals().clear()\n",
    "print('\\nVARIABLES AFTER CLEAR')\n",
    "%whos\n",
    "\n",
    "abc = 1001\n",
    "xyz = \"my_text\"\n",
    "print('\\nVARIABLES BEFORE CLEAR')\n",
    "%whos\n",
    "\n",
    "del abc\n",
    "print('\\nVARIABLES AFTER DELETE ONE VARIABLE')\n",
    "%whos\n",
    "\n",
    "#----TOTALLY REMOVE DATA AND FREE GPU------------------------------------------------------------------\n",
    "#import sys\n",
    "#sys.modules[__name__].__dict__.clear()  #you have to restart your interpreter - don't use that command"
   ]
  }
 ],
 "metadata": {
  "kernelspec": {
   "display_name": "Python 3 (ipykernel)",
   "language": "python",
   "name": "python3"
  },
  "language_info": {
   "codemirror_mode": {
    "name": "ipython",
    "version": 3
   },
   "file_extension": ".py",
   "mimetype": "text/x-python",
   "name": "python",
   "nbconvert_exporter": "python",
   "pygments_lexer": "ipython3",
   "version": "3.10.13"
  }
 },
 "nbformat": 4,
 "nbformat_minor": 5
}
